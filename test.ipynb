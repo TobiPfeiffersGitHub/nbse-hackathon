{
 "cells": [
  {
   "cell_type": "code",
   "execution_count": 18,
   "id": "c8583b65",
   "metadata": {},
   "outputs": [],
   "source": [
    "import requests\n",
    "import googlemaps\n",
    "from langchain.tools import Tool\n",
    "from langchain.agents import initialize_agent, AgentType\n",
    "from langchain.chat_models import ChatOpenAI\n",
    "import os\n",
    "from dotenv import load_dotenv\n",
    "import certifi\n"
   ]
  },
  {
   "cell_type": "code",
   "execution_count": 19,
   "id": "02997332",
   "metadata": {},
   "outputs": [],
   "source": [
    "os.environ['SSL_CERT_FILE'] = certifi.where()"
   ]
  },
  {
   "cell_type": "code",
   "execution_count": 20,
   "id": "814370f6",
   "metadata": {},
   "outputs": [
    {
     "data": {
      "text/plain": [
       "True"
      ]
     },
     "execution_count": 20,
     "metadata": {},
     "output_type": "execute_result"
    }
   ],
   "source": [
    "load_dotenv()"
   ]
  },
  {
   "cell_type": "code",
   "execution_count": 21,
   "id": "3d7e513b",
   "metadata": {},
   "outputs": [],
   "source": [
    "GOOGLE_API_KEY = os.getenv(\"GOOGLE_MAPS_API_KEY\")\n",
    "OPENAI_API_KEY = os.getenv(\"OPENAI_API_KEY\")"
   ]
  },
  {
   "cell_type": "code",
   "execution_count": 22,
   "id": "39299b89",
   "metadata": {},
   "outputs": [],
   "source": [
    "def search_and_get_details(query: str, location: str = \"\"):\n",
    "    gmaps = googlemaps.Client(key=GOOGLE_API_KEY)\n",
    "    # Build query\n",
    "    search_query = f\"{query} in {location}\" if location else query\n",
    "    results = gmaps.places(query=search_query)\n",
    "    output = []\n",
    "    for place in results.get('results', []):\n",
    "        place_id = place['place_id']\n",
    "        details = gmaps.place(place_id=place_id, fields=['name', 'formatted_phone_number', 'website'])\n",
    "        result = details.get('result', {})\n",
    "        if result:\n",
    "            output.append({\n",
    "                \"name\": result.get(\"name\"),\n",
    "                \"phone\": result.get(\"formatted_phone_number\"),\n",
    "                \"website\": result.get(\"website\")\n",
    "            })\n",
    "    return output[:5]  # Limit for brevity\n",
    "\n",
    "# Wrap as a LangChain tool\n",
    "google_maps_tool = Tool(\n",
    "    name=\"Google Maps Finder\",\n",
    "    func=lambda query: search_and_get_details(query=query),\n",
    "    description=\"Use this tool to find professionals and their contact details. Input: search term and location, e.g., 'cardiologists in Frankfurt'.\"\n",
    ")\n"
   ]
  },
  {
   "cell_type": "code",
   "execution_count": 23,
   "id": "f38c5cc5",
   "metadata": {},
   "outputs": [],
   "source": [
    "llm = ChatOpenAI(temperature=0, openai_api_key=OPENAI_API_KEY, model=\"gpt-4o-mini\")\n",
    "\n",
    "agent = initialize_agent(\n",
    "    tools=[google_maps_tool],\n",
    "    llm=llm,\n",
    "    agent=AgentType.ZERO_SHOT_REACT_DESCRIPTION,\n",
    "    verbose=True\n",
    ")"
   ]
  },
  {
   "cell_type": "code",
   "execution_count": 24,
   "id": "b054f251",
   "metadata": {},
   "outputs": [
    {
     "name": "stdout",
     "output_type": "stream",
     "text": [
      "\n",
      "\n",
      "\u001b[1m> Entering new AgentExecutor chain...\u001b[0m\n",
      "\u001b[32;1m\u001b[1;3mI need to find cardiologists located in Frankfurt. \n",
      "Action: Google Maps Finder\n",
      "Action Input: 'cardiologists in Frankfurt'\u001b[0m\n",
      "Observation: \u001b[36;1m\u001b[1;3m[{'name': 'CVC CardioVascular Center Frankfurt', 'phone': '069 46031340', 'website': 'https://www.cvcfrankfurt.de/'}, {'name': 'Kardiocentrum Frankfurt - Praxis Innenstadt', 'phone': '069 9130910', 'website': 'https://kardiocentrum.de/'}, {'name': 'Kardiologische Praxis', 'phone': '069 9043780', 'website': 'http://www.kardiopraxis.de/'}, {'name': 'Kardiocentrum Frankfurt an der Klinik Rotes Kreuz', 'phone': '069 944340', 'website': 'https://kardiocentrum.de/'}, {'name': 'Kardiologie am Main | Prof. Dr. med. Ulrich Fischer-Rasokat', 'phone': '069 66779973', 'website': 'https://kardiologie-am-main.de/'}]\u001b[0m\n",
      "Thought:\u001b[32;1m\u001b[1;3mI now have a list of cardiologists in Frankfurt along with their contact details and websites. \n",
      "Final Answer: Here are some cardiologists in Frankfurt:\n",
      "\n",
      "1. **CVC CardioVascular Center Frankfurt**\n",
      "   - Phone: 069 46031340\n",
      "   - Website: [cvcfrankfurt.de](https://www.cvcfrankfurt.de/)\n",
      "\n",
      "2. **Kardiocentrum Frankfurt - Praxis Innenstadt**\n",
      "   - Phone: 069 9130910\n",
      "   - Website: [kardiocentrum.de](https://kardiocentrum.de/)\n",
      "\n",
      "3. **Kardiologische Praxis**\n",
      "   - Phone: 069 9043780\n",
      "   - Website: [kardiopraxis.de](http://www.kardiopraxis.de/)\n",
      "\n",
      "4. **Kardiocentrum Frankfurt an der Klinik Rotes Kreuz**\n",
      "   - Phone: 069 944340\n",
      "   - Website: [kardiocentrum.de](https://kardiocentrum.de/)\n",
      "\n",
      "5. **Kardiologie am Main | Prof. Dr. med. Ulrich Fischer-Rasokat**\n",
      "   - Phone: 069 66779973\n",
      "   - Website: [kardiologie-am-main.de](https://kardiologie-am-main.de/)\u001b[0m\n",
      "\n",
      "\u001b[1m> Finished chain.\u001b[0m\n",
      "Here are some cardiologists in Frankfurt:\n",
      "\n",
      "1. **CVC CardioVascular Center Frankfurt**\n",
      "   - Phone: 069 46031340\n",
      "   - Website: [cvcfrankfurt.de](https://www.cvcfrankfurt.de/)\n",
      "\n",
      "2. **Kardiocentrum Frankfurt - Praxis Innenstadt**\n",
      "   - Phone: 069 9130910\n",
      "   - Website: [kardiocentrum.de](https://kardiocentrum.de/)\n",
      "\n",
      "3. **Kardiologische Praxis**\n",
      "   - Phone: 069 9043780\n",
      "   - Website: [kardiopraxis.de](http://www.kardiopraxis.de/)\n",
      "\n",
      "4. **Kardiocentrum Frankfurt an der Klinik Rotes Kreuz**\n",
      "   - Phone: 069 944340\n",
      "   - Website: [kardiocentrum.de](https://kardiocentrum.de/)\n",
      "\n",
      "5. **Kardiologie am Main | Prof. Dr. med. Ulrich Fischer-Rasokat**\n",
      "   - Phone: 069 66779973\n",
      "   - Website: [kardiologie-am-main.de](https://kardiologie-am-main.de/)\n"
     ]
    }
   ],
   "source": [
    "question = \"find me all cardiologists in Frankfurt\"\n",
    "result = agent.run(question)\n",
    "print(result)"
   ]
  }
 ],
 "metadata": {
  "kernelspec": {
   "display_name": ".hack",
   "language": "python",
   "name": "python3"
  },
  "language_info": {
   "codemirror_mode": {
    "name": "ipython",
    "version": 3
   },
   "file_extension": ".py",
   "mimetype": "text/x-python",
   "name": "python",
   "nbconvert_exporter": "python",
   "pygments_lexer": "ipython3",
   "version": "3.12.10"
  }
 },
 "nbformat": 4,
 "nbformat_minor": 5
}
